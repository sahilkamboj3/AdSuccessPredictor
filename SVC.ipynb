{
 "cells": [
  {
   "cell_type": "code",
   "execution_count": 45,
   "metadata": {},
   "outputs": [],
   "source": [
    "import pandas as pd\n",
    "from scipy import stats\n",
    "from statsmodels.stats import weightstats\n",
    "import numpy as np\n",
    "\n",
    "from sklearn.svm import SVC\n",
    "from sklearn.model_selection import cross_val_score, cross_val_predict, GridSearchCV, train_test_split\n",
    "from sklearn.metrics import f1_score, precision_score, recall_score, roc_auc_score, confusion_matrix"
   ]
  },
  {
   "cell_type": "markdown",
   "metadata": {},
   "source": [
    "# Data Retrieval"
   ]
  },
  {
   "cell_type": "code",
   "execution_count": 28,
   "metadata": {},
   "outputs": [
    {
     "name": "stdout",
     "output_type": "stream",
     "text": [
      "   Daily Time Spent on Site  Area Income  Daily Internet Usage       Age  \\\n",
      "0                  0.249267     0.509691              1.734030 -0.114905   \n",
      "1                  0.961132     1.002530              0.313805 -0.570425   \n",
      "2                  0.282083     0.356949              1.287589 -1.139826   \n",
      "3                  0.577432    -0.014456              1.501580 -0.798185   \n",
      "4                  0.212664     1.408868              1.038731 -0.114905   \n",
      "\n",
      "   Clicked on Ad  \n",
      "0            0.0  \n",
      "1            0.0  \n",
      "2            0.0  \n",
      "3            0.0  \n",
      "4            0.0  \n",
      "   Daily Time Spent on Site       Age  Area Income  Daily Internet Usage  \\\n",
      "0                  0.249267 -0.114905     0.509691              1.734030   \n",
      "1                  0.961132 -0.570425     1.002530              0.313805   \n",
      "2                  0.282083 -1.139826     0.356949              1.287589   \n",
      "3                  0.577432 -0.798185    -0.014456              1.501580   \n",
      "4                  0.212664 -0.114905     1.408868              1.038731   \n",
      "\n",
      "   Site/Internet  Age/Site  Income/Site  Length/Site  Length/Age  \\\n",
      "0      -1.056207 -0.371712     0.029738    -0.303311   -0.044433   \n",
      "1       0.414323 -0.815950    -0.125672    -0.646126    0.370412   \n",
      "2      -0.807398 -0.860389    -0.098906    -0.463918    0.813883   \n",
      "3      -0.728030 -0.798689    -0.530684    -0.274248    0.963123   \n",
      "4      -0.712515 -0.355932     0.683558    -0.644242   -0.517234   \n",
      "\n",
      "   Income/Length  Clicked on Ad  \n",
      "0       0.244288            0.0  \n",
      "1       0.625646            0.0  \n",
      "2       0.341744            0.0  \n",
      "3      -0.417752            0.0  \n",
      "4       1.675299            0.0  \n"
     ]
    }
   ],
   "source": [
    "orgin_stat_sig = pd.read_csv('orig_stat_sig.csv')\n",
    "feature_eng = pd.read_csv('feature_engineered_cols.csv')\n",
    "\n",
    "print(orgin_stat_sig.head())\n",
    "\n",
    "train_1, test_1 = train_test_split(orgin_stat_sig, train_size=0.8)\n",
    "\n",
    "train_1_X = train_1.loc[:, 'Daily Time Spent on Site': 'Age']\n",
    "train_1_y = train_1['Clicked on Ad']\n",
    "\n",
    "print(feature_eng.head())\n",
    "\n",
    "train_2, test_2 = train_test_split(feature_eng, train_size=0.8)\n",
    "\n",
    "train_2_X = train_2.loc[:, 'Daily Time Spent on Site': 'Income/Length']\n",
    "train_2_y = train_2['Clicked on Ad']"
   ]
  },
  {
   "cell_type": "markdown",
   "metadata": {},
   "source": [
    "# Model Preparation"
   ]
  },
  {
   "cell_type": "code",
   "execution_count": 29,
   "metadata": {},
   "outputs": [],
   "source": [
    "svc = SVC(random_state=42)\n",
    "svc2 = SVC(random_state=42)\n",
    "\n",
    "param_grid = [\n",
    "    {\n",
    "        'C': [0.1, 0.5, 1, 2.5, 5],\n",
    "        'kernel': ['poly', 'rbf', 'sigmoid'],\n",
    "        'degree': [3, 6, 9],\n",
    "        'gamma': ['auto', 'scale']\n",
    "    }\n",
    "]\n",
    "\n",
    "cv_len = 5"
   ]
  },
  {
   "cell_type": "markdown",
   "metadata": {},
   "source": [
    "## Testing Just Statistically Significant Features First"
   ]
  },
  {
   "cell_type": "code",
   "execution_count": 30,
   "metadata": {},
   "outputs": [],
   "source": [
    "svc_grid_search = GridSearchCV(svc, param_grid, cv=cv_len, scoring=['accuracy', 'f1'], refit='f1')"
   ]
  },
  {
   "cell_type": "code",
   "execution_count": 31,
   "metadata": {},
   "outputs": [
    {
     "data": {
      "text/plain": [
       "GridSearchCV(cv=5, error_score='raise-deprecating',\n",
       "             estimator=SVC(C=1.0, cache_size=200, class_weight=None, coef0=0.0,\n",
       "                           decision_function_shape='ovr', degree=3,\n",
       "                           gamma='auto_deprecated', kernel='rbf', max_iter=-1,\n",
       "                           probability=False, random_state=42, shrinking=True,\n",
       "                           tol=0.001, verbose=False),\n",
       "             iid='warn', n_jobs=None,\n",
       "             param_grid=[{'C': [0.1, 0.5, 1, 2.5, 5], 'degree': [3, 6, 9],\n",
       "                          'gamma': ['auto', 'scale'],\n",
       "                          'kernel': ['poly', 'rbf', 'sigmoid']}],\n",
       "             pre_dispatch='2*n_jobs', refit='f1', return_train_score=False,\n",
       "             scoring=['accuracy', 'f1'], verbose=0)"
      ]
     },
     "execution_count": 31,
     "metadata": {},
     "output_type": "execute_result"
    }
   ],
   "source": [
    "svc_grid_search.fit(train_1_X, train_1_y)"
   ]
  },
  {
   "cell_type": "code",
   "execution_count": 32,
   "metadata": {},
   "outputs": [
    {
     "data": {
      "text/plain": [
       "SVC(C=0.1, cache_size=200, class_weight=None, coef0=0.0,\n",
       "    decision_function_shape='ovr', degree=3, gamma='auto', kernel='rbf',\n",
       "    max_iter=-1, probability=False, random_state=42, shrinking=True, tol=0.001,\n",
       "    verbose=False)"
      ]
     },
     "execution_count": 32,
     "metadata": {},
     "output_type": "execute_result"
    }
   ],
   "source": [
    "svc_grid_search.best_estimator_"
   ]
  },
  {
   "cell_type": "code",
   "execution_count": 33,
   "metadata": {},
   "outputs": [
    {
     "data": {
      "text/plain": [
       "{'C': 0.1, 'degree': 3, 'gamma': 'auto', 'kernel': 'rbf'}"
      ]
     },
     "execution_count": 33,
     "metadata": {},
     "output_type": "execute_result"
    }
   ],
   "source": [
    "svc_grid_search.best_params_"
   ]
  },
  {
   "cell_type": "code",
   "execution_count": 34,
   "metadata": {},
   "outputs": [
    {
     "data": {
      "text/plain": [
       "0.968624993605227"
      ]
     },
     "execution_count": 34,
     "metadata": {},
     "output_type": "execute_result"
    }
   ],
   "source": [
    "svc_grid_search.best_score_"
   ]
  },
  {
   "cell_type": "markdown",
   "metadata": {},
   "source": [
    "## Testing Just New Features + Statistically Significant Features "
   ]
  },
  {
   "cell_type": "code",
   "execution_count": 35,
   "metadata": {},
   "outputs": [],
   "source": [
    "svc_grid_search_2 = GridSearchCV(svc2, param_grid, cv=cv_len, scoring=['accuracy', 'f1'], refit='f1')"
   ]
  },
  {
   "cell_type": "code",
   "execution_count": 36,
   "metadata": {},
   "outputs": [
    {
     "data": {
      "text/plain": [
       "GridSearchCV(cv=5, error_score='raise-deprecating',\n",
       "             estimator=SVC(C=1.0, cache_size=200, class_weight=None, coef0=0.0,\n",
       "                           decision_function_shape='ovr', degree=3,\n",
       "                           gamma='auto_deprecated', kernel='rbf', max_iter=-1,\n",
       "                           probability=False, random_state=42, shrinking=True,\n",
       "                           tol=0.001, verbose=False),\n",
       "             iid='warn', n_jobs=None,\n",
       "             param_grid=[{'C': [0.1, 0.5, 1, 2.5, 5], 'degree': [3, 6, 9],\n",
       "                          'gamma': ['auto', 'scale'],\n",
       "                          'kernel': ['poly', 'rbf', 'sigmoid']}],\n",
       "             pre_dispatch='2*n_jobs', refit='f1', return_train_score=False,\n",
       "             scoring=['accuracy', 'f1'], verbose=0)"
      ]
     },
     "execution_count": 36,
     "metadata": {},
     "output_type": "execute_result"
    }
   ],
   "source": [
    "svc_grid_search_2.fit(train_2_X, train_2_y)"
   ]
  },
  {
   "cell_type": "code",
   "execution_count": 37,
   "metadata": {},
   "outputs": [
    {
     "data": {
      "text/plain": [
       "SVC(C=0.5, cache_size=200, class_weight=None, coef0=0.0,\n",
       "    decision_function_shape='ovr', degree=3, gamma='auto', kernel='rbf',\n",
       "    max_iter=-1, probability=False, random_state=42, shrinking=True, tol=0.001,\n",
       "    verbose=False)"
      ]
     },
     "execution_count": 37,
     "metadata": {},
     "output_type": "execute_result"
    }
   ],
   "source": [
    "svc_grid_search_2.best_estimator_"
   ]
  },
  {
   "cell_type": "code",
   "execution_count": 38,
   "metadata": {},
   "outputs": [
    {
     "data": {
      "text/plain": [
       "{'C': 0.5, 'degree': 3, 'gamma': 'auto', 'kernel': 'rbf'}"
      ]
     },
     "execution_count": 38,
     "metadata": {},
     "output_type": "execute_result"
    }
   ],
   "source": [
    "svc_grid_search_2.best_params_"
   ]
  },
  {
   "cell_type": "code",
   "execution_count": 39,
   "metadata": {},
   "outputs": [
    {
     "data": {
      "text/plain": [
       "0.9698092330901374"
      ]
     },
     "execution_count": 39,
     "metadata": {},
     "output_type": "execute_result"
    }
   ],
   "source": [
    "svc_grid_search_2.best_score_"
   ]
  },
  {
   "cell_type": "markdown",
   "metadata": {},
   "source": [
    "# Statistical Signficance Test"
   ]
  },
  {
   "cell_type": "code",
   "execution_count": 59,
   "metadata": {},
   "outputs": [
    {
     "name": "stdout",
     "output_type": "stream",
     "text": [
      "mean: 0.965\n",
      "std: 0.12086493839543928\n",
      "\n",
      "mean: 0.9663888888888887\n",
      "std: 0.12020398043983506\n",
      "\n",
      "\n",
      "-0.14088840193882027\n",
      "0.8880055507939072\n",
      "fail to reject, not stat sig\n"
     ]
    }
   ],
   "source": [
    "cv_len = 300\n",
    "\n",
    "def scores_info(scores):\n",
    "#     print(f'scores: {scores}')\n",
    "    print(f'mean: {scores.mean()}')\n",
    "    print(f'std: {scores.std()}')\n",
    "    print('')\n",
    "\n",
    "model1 = svc_grid_search.best_estimator_\n",
    "model2 = svc_grid_search_2.best_estimator_\n",
    "\n",
    "scores1 = cross_val_score(model1, train_1_X, train_1_y, cv=cv_len)\n",
    "scores2 = cross_val_score(model2, train_2_X, train_2_y, cv=cv_len)\n",
    "\n",
    "scores_info(scores1)\n",
    "scores_info(scores2)\n",
    "\n",
    "ALPHA = 0.05\n",
    "\n",
    "statistic, p = stats.ttest_ind(scores1, scores2, equal_var=False) \n",
    "\n",
    "print('')\n",
    "print(statistic)\n",
    "print(p)\n",
    "\n",
    "if p < ALPHA:\n",
    "    print('statistically significant')\n",
    "else:\n",
    "    print('fail to reject, not stat sig')"
   ]
  },
  {
   "cell_type": "markdown",
   "metadata": {},
   "source": [
    "# Cross Val Predict"
   ]
  },
  {
   "cell_type": "code",
   "execution_count": 52,
   "metadata": {},
   "outputs": [],
   "source": [
    "def score_comparison_info(y_preds, y_trues):\n",
    "    conf_matrix = confusion_matrix(y_preds, y_trues)\n",
    "    f1 = f1_score(y_preds, y_trues)\n",
    "    precision = precision_score(y_preds, y_trues)\n",
    "    recall = recall_score(y_preds, y_trues)\n",
    "    area_under_curve = roc_auc_score(y_preds, y_trues)\n",
    "    \n",
    "    return conf_matrix, precision, recall, f1, area_under_curve"
   ]
  },
  {
   "cell_type": "markdown",
   "metadata": {},
   "source": [
    "### Original Statistically Significant Features"
   ]
  },
  {
   "cell_type": "code",
   "execution_count": 62,
   "metadata": {},
   "outputs": [
    {
     "name": "stdout",
     "output_type": "stream",
     "text": [
      "[[405  18]\n",
      " [  7 370]],\n",
      " precision: 0.9536082474226805,\n",
      " recall: 0.9814323607427056,\n",
      " f1: 0.9673202614379086,\n",
      " Area under Curve: 0.9694395846266719\n"
     ]
    }
   ],
   "source": [
    "preds = cross_val_predict(model1, train_1_X, train_1_y, cv=cv_len, method='decision_function')\n",
    "scores_array = []\n",
    "\n",
    "for i in preds:\n",
    "    if i > 0:\n",
    "        scores_array.append(1)\n",
    "    else:\n",
    "        scores_array.append(0)  \n",
    "\n",
    "conf_matrix, precision, recall, f1, area_under_curve = score_comparison_info(scores_array, train_1_y) \n",
    "print(f'{conf_matrix},\\n precision: {precision},\\n recall: {recall},\\n f1: {f1},\\n Area under Curve: {area_under_curve}')\n"
   ]
  },
  {
   "cell_type": "markdown",
   "metadata": {},
   "source": [
    "### Original Statistically Significant Features + New Features"
   ]
  },
  {
   "cell_type": "code",
   "execution_count": 63,
   "metadata": {},
   "outputs": [
    {
     "name": "stdout",
     "output_type": "stream",
     "text": [
      "[[389  20]\n",
      " [  8 383]],\n",
      " precision: 0.9503722084367245,\n",
      " recall: 0.979539641943734,\n",
      " f1: 0.9647355163727959,\n",
      " Area under Curve: 0.9653199432212558\n"
     ]
    }
   ],
   "source": [
    "preds = cross_val_predict(model2, train_2_X, train_2_y, cv=cv_len, method='decision_function')\n",
    "scores_array = []\n",
    "\n",
    "for i in preds:\n",
    "    if i > 0:\n",
    "        scores_array.append(1)\n",
    "    else:\n",
    "        scores_array.append(0)  \n",
    "\n",
    "conf_matrix, precision, recall, f1, area_under_curve = score_comparison_info(scores_array, train_2_y) \n",
    "print(f'{conf_matrix},\\n precision: {precision},\\n recall: {recall},\\n f1: {f1},\\n Area under Curve: {area_under_curve}')"
   ]
  }
 ],
 "metadata": {
  "kernelspec": {
   "display_name": "Python 3.7.3 64-bit",
   "language": "python",
   "name": "python37364bitfa9893814aec4ef7b4684d6771155a64"
  },
  "language_info": {
   "codemirror_mode": {
    "name": "ipython",
    "version": 3
   },
   "file_extension": ".py",
   "mimetype": "text/x-python",
   "name": "python",
   "nbconvert_exporter": "python",
   "pygments_lexer": "ipython3",
   "version": "3.7.3"
  }
 },
 "nbformat": 4,
 "nbformat_minor": 2
}
