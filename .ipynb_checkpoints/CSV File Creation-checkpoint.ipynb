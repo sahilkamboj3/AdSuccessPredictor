{
 "cells": [
  {
   "cell_type": "code",
   "execution_count": 50,
   "metadata": {},
   "outputs": [],
   "source": [
    "import pandas as pd\n",
    "from datetime import datetime\n",
    "import numpy as np\n",
    "\n",
    "from sklearn.pipeline import Pipeline, FeatureUnion\n",
    "from sklearn.base import TransformerMixin, BaseEstimator\n",
    "from sklearn.preprocessing import StandardScaler\n",
    "from sklearn.model_selection import train_test_split"
   ]
  },
  {
   "cell_type": "code",
   "execution_count": 51,
   "metadata": {},
   "outputs": [],
   "source": [
    "df = pd.read_csv('advertising.csv')"
   ]
  },
  {
   "cell_type": "code",
   "execution_count": 52,
   "metadata": {},
   "outputs": [],
   "source": [
    "def convert_datetime(date):\n",
    "    return datetime.strptime(date, '%Y-%m-%d %H:%M:%S')\n",
    "\n",
    "df['Datetime'] = df['Timestamp'].apply(lambda row: convert_datetime(row))"
   ]
  },
  {
   "cell_type": "code",
   "execution_count": 53,
   "metadata": {
    "scrolled": false
   },
   "outputs": [
    {
     "data": {
      "text/html": [
       "<div>\n",
       "<style scoped>\n",
       "    .dataframe tbody tr th:only-of-type {\n",
       "        vertical-align: middle;\n",
       "    }\n",
       "\n",
       "    .dataframe tbody tr th {\n",
       "        vertical-align: top;\n",
       "    }\n",
       "\n",
       "    .dataframe thead th {\n",
       "        text-align: right;\n",
       "    }\n",
       "</style>\n",
       "<table border=\"1\" class=\"dataframe\">\n",
       "  <thead>\n",
       "    <tr style=\"text-align: right;\">\n",
       "      <th></th>\n",
       "      <th>Daily Time Spent on Site</th>\n",
       "      <th>Age</th>\n",
       "      <th>Area Income</th>\n",
       "      <th>Daily Internet Usage</th>\n",
       "      <th>Ad Topic Line</th>\n",
       "      <th>City</th>\n",
       "      <th>Male</th>\n",
       "      <th>Country</th>\n",
       "      <th>Clicked on Ad</th>\n",
       "    </tr>\n",
       "    <tr>\n",
       "      <th>Datetime</th>\n",
       "      <th></th>\n",
       "      <th></th>\n",
       "      <th></th>\n",
       "      <th></th>\n",
       "      <th></th>\n",
       "      <th></th>\n",
       "      <th></th>\n",
       "      <th></th>\n",
       "      <th></th>\n",
       "    </tr>\n",
       "  </thead>\n",
       "  <tbody>\n",
       "    <tr>\n",
       "      <th>2016-03-27 00:53:11</th>\n",
       "      <td>68.95</td>\n",
       "      <td>35</td>\n",
       "      <td>61833.90</td>\n",
       "      <td>256.09</td>\n",
       "      <td>Cloned 5thgeneration orchestration</td>\n",
       "      <td>Wrightburgh</td>\n",
       "      <td>0</td>\n",
       "      <td>Tunisia</td>\n",
       "      <td>0</td>\n",
       "    </tr>\n",
       "    <tr>\n",
       "      <th>2016-04-04 01:39:02</th>\n",
       "      <td>80.23</td>\n",
       "      <td>31</td>\n",
       "      <td>68441.85</td>\n",
       "      <td>193.77</td>\n",
       "      <td>Monitored national standardization</td>\n",
       "      <td>West Jodi</td>\n",
       "      <td>1</td>\n",
       "      <td>Nauru</td>\n",
       "      <td>0</td>\n",
       "    </tr>\n",
       "    <tr>\n",
       "      <th>2016-03-13 20:35:42</th>\n",
       "      <td>69.47</td>\n",
       "      <td>26</td>\n",
       "      <td>59785.94</td>\n",
       "      <td>236.50</td>\n",
       "      <td>Organic bottom-line service-desk</td>\n",
       "      <td>Davidton</td>\n",
       "      <td>0</td>\n",
       "      <td>San Marino</td>\n",
       "      <td>0</td>\n",
       "    </tr>\n",
       "    <tr>\n",
       "      <th>2016-01-10 02:31:19</th>\n",
       "      <td>74.15</td>\n",
       "      <td>29</td>\n",
       "      <td>54806.18</td>\n",
       "      <td>245.89</td>\n",
       "      <td>Triple-buffered reciprocal time-frame</td>\n",
       "      <td>West Terrifurt</td>\n",
       "      <td>1</td>\n",
       "      <td>Italy</td>\n",
       "      <td>0</td>\n",
       "    </tr>\n",
       "    <tr>\n",
       "      <th>2016-06-03 03:36:18</th>\n",
       "      <td>68.37</td>\n",
       "      <td>35</td>\n",
       "      <td>73889.99</td>\n",
       "      <td>225.58</td>\n",
       "      <td>Robust logistical utilization</td>\n",
       "      <td>South Manuel</td>\n",
       "      <td>0</td>\n",
       "      <td>Iceland</td>\n",
       "      <td>0</td>\n",
       "    </tr>\n",
       "  </tbody>\n",
       "</table>\n",
       "</div>"
      ],
      "text/plain": [
       "                     Daily Time Spent on Site  Age  Area Income  \\\n",
       "Datetime                                                          \n",
       "2016-03-27 00:53:11                     68.95   35     61833.90   \n",
       "2016-04-04 01:39:02                     80.23   31     68441.85   \n",
       "2016-03-13 20:35:42                     69.47   26     59785.94   \n",
       "2016-01-10 02:31:19                     74.15   29     54806.18   \n",
       "2016-06-03 03:36:18                     68.37   35     73889.99   \n",
       "\n",
       "                     Daily Internet Usage  \\\n",
       "Datetime                                    \n",
       "2016-03-27 00:53:11                256.09   \n",
       "2016-04-04 01:39:02                193.77   \n",
       "2016-03-13 20:35:42                236.50   \n",
       "2016-01-10 02:31:19                245.89   \n",
       "2016-06-03 03:36:18                225.58   \n",
       "\n",
       "                                             Ad Topic Line            City  \\\n",
       "Datetime                                                                     \n",
       "2016-03-27 00:53:11     Cloned 5thgeneration orchestration     Wrightburgh   \n",
       "2016-04-04 01:39:02     Monitored national standardization       West Jodi   \n",
       "2016-03-13 20:35:42       Organic bottom-line service-desk        Davidton   \n",
       "2016-01-10 02:31:19  Triple-buffered reciprocal time-frame  West Terrifurt   \n",
       "2016-06-03 03:36:18          Robust logistical utilization    South Manuel   \n",
       "\n",
       "                     Male     Country  Clicked on Ad  \n",
       "Datetime                                              \n",
       "2016-03-27 00:53:11     0     Tunisia              0  \n",
       "2016-04-04 01:39:02     1       Nauru              0  \n",
       "2016-03-13 20:35:42     0  San Marino              0  \n",
       "2016-01-10 02:31:19     1       Italy              0  \n",
       "2016-06-03 03:36:18     0     Iceland              0  "
      ]
     },
     "execution_count": 53,
     "metadata": {},
     "output_type": "execute_result"
    }
   ],
   "source": [
    "df.set_index('Datetime', inplace=True)\n",
    "df.drop('Timestamp', axis=1, inplace=True)\n",
    "df.head()"
   ]
  },
  {
   "cell_type": "markdown",
   "metadata": {},
   "source": [
    "# Statistically Significant Train/Test File Creation"
   ]
  },
  {
   "cell_type": "code",
   "execution_count": 114,
   "metadata": {},
   "outputs": [],
   "source": [
    "orig_stat_significant = df.filter(['Datetime', 'Daily Time Spent on Site', 'Area Income', 'Daily Internet Usage', 'Age'], axis=1)"
   ]
  },
  {
   "cell_type": "code",
   "execution_count": 115,
   "metadata": {},
   "outputs": [],
   "source": [
    "orig_stat_significant = StandardScaler().fit_transform(orig_stat_significant)"
   ]
  },
  {
   "cell_type": "code",
   "execution_count": 121,
   "metadata": {},
   "outputs": [],
   "source": [
    "y = np.array(df['Clicked on Ad'])"
   ]
  },
  {
   "cell_type": "code",
   "execution_count": 124,
   "metadata": {
    "scrolled": true
   },
   "outputs": [],
   "source": [
    "orig_stat_significant = np.insert(orig_stat_significant, 4, y, axis=1)"
   ]
  },
  {
   "cell_type": "code",
   "execution_count": 125,
   "metadata": {},
   "outputs": [
    {
     "data": {
      "text/plain": [
       "array([[ 0.24926659,  0.50969109,  1.73403   , -0.11490498,  0.        ],\n",
       "       [ 0.96113227,  1.00253021,  0.31380538, -0.57042523,  0.        ],\n",
       "       [ 0.28208309,  0.35694859,  1.28758905, -1.13982553,  0.        ],\n",
       "       ...,\n",
       "       [-0.84377541, -0.93857029, -1.35892388,  1.707176  ,  1.        ],\n",
       "       [-0.59638946, -0.97548353,  0.18117208, -1.93698596,  0.        ],\n",
       "       [-1.26155474, -1.87383208, -0.0376045 , -1.13982553,  1.        ]])"
      ]
     },
     "execution_count": 125,
     "metadata": {},
     "output_type": "execute_result"
    }
   ],
   "source": [
    "orig_stat_significant"
   ]
  },
  {
   "cell_type": "code",
   "execution_count": 126,
   "metadata": {},
   "outputs": [],
   "source": [
    "orig_stat_significant = pd.DataFrame(data=orig_stat_significant, columns=['Daily Time Spent on Site', 'Area Income', 'Daily Internet Usage', 'Age', 'Clicked on Ad'])"
   ]
  },
  {
   "cell_type": "code",
   "execution_count": 129,
   "metadata": {},
   "outputs": [
    {
     "data": {
      "text/html": [
       "<div>\n",
       "<style scoped>\n",
       "    .dataframe tbody tr th:only-of-type {\n",
       "        vertical-align: middle;\n",
       "    }\n",
       "\n",
       "    .dataframe tbody tr th {\n",
       "        vertical-align: top;\n",
       "    }\n",
       "\n",
       "    .dataframe thead th {\n",
       "        text-align: right;\n",
       "    }\n",
       "</style>\n",
       "<table border=\"1\" class=\"dataframe\">\n",
       "  <thead>\n",
       "    <tr style=\"text-align: right;\">\n",
       "      <th></th>\n",
       "      <th>Daily Time Spent on Site</th>\n",
       "      <th>Area Income</th>\n",
       "      <th>Daily Internet Usage</th>\n",
       "      <th>Age</th>\n",
       "      <th>Clicked on Ad</th>\n",
       "    </tr>\n",
       "  </thead>\n",
       "  <tbody>\n",
       "    <tr>\n",
       "      <th>0</th>\n",
       "      <td>0.249267</td>\n",
       "      <td>0.509691</td>\n",
       "      <td>1.734030</td>\n",
       "      <td>-0.114905</td>\n",
       "      <td>0.0</td>\n",
       "    </tr>\n",
       "    <tr>\n",
       "      <th>1</th>\n",
       "      <td>0.961132</td>\n",
       "      <td>1.002530</td>\n",
       "      <td>0.313805</td>\n",
       "      <td>-0.570425</td>\n",
       "      <td>0.0</td>\n",
       "    </tr>\n",
       "    <tr>\n",
       "      <th>2</th>\n",
       "      <td>0.282083</td>\n",
       "      <td>0.356949</td>\n",
       "      <td>1.287589</td>\n",
       "      <td>-1.139826</td>\n",
       "      <td>0.0</td>\n",
       "    </tr>\n",
       "    <tr>\n",
       "      <th>3</th>\n",
       "      <td>0.577432</td>\n",
       "      <td>-0.014456</td>\n",
       "      <td>1.501580</td>\n",
       "      <td>-0.798185</td>\n",
       "      <td>0.0</td>\n",
       "    </tr>\n",
       "    <tr>\n",
       "      <th>4</th>\n",
       "      <td>0.212664</td>\n",
       "      <td>1.408868</td>\n",
       "      <td>1.038731</td>\n",
       "      <td>-0.114905</td>\n",
       "      <td>0.0</td>\n",
       "    </tr>\n",
       "  </tbody>\n",
       "</table>\n",
       "</div>"
      ],
      "text/plain": [
       "   Daily Time Spent on Site  Area Income  Daily Internet Usage       Age  \\\n",
       "0                  0.249267     0.509691              1.734030 -0.114905   \n",
       "1                  0.961132     1.002530              0.313805 -0.570425   \n",
       "2                  0.282083     0.356949              1.287589 -1.139826   \n",
       "3                  0.577432    -0.014456              1.501580 -0.798185   \n",
       "4                  0.212664     1.408868              1.038731 -0.114905   \n",
       "\n",
       "   Clicked on Ad  \n",
       "0            0.0  \n",
       "1            0.0  \n",
       "2            0.0  \n",
       "3            0.0  \n",
       "4            0.0  "
      ]
     },
     "execution_count": 129,
     "metadata": {},
     "output_type": "execute_result"
    }
   ],
   "source": [
    "orig_stat_significant.head()"
   ]
  },
  {
   "cell_type": "code",
   "execution_count": 130,
   "metadata": {},
   "outputs": [],
   "source": [
    "orig_stat_significant.to_csv('orig_stat_sig.csv', index=False)"
   ]
  },
  {
   "cell_type": "markdown",
   "metadata": {},
   "source": [
    "# New + Statistically Significant Column File Creation"
   ]
  },
  {
   "cell_type": "code",
   "execution_count": 131,
   "metadata": {},
   "outputs": [],
   "source": [
    "class DateFrameSelector(TransformerMixin, BaseEstimator):\n",
    "    def __init__(self, attribs):\n",
    "        self.attribs = attribs\n",
    "    \n",
    "    def fit(self, X, y=None):\n",
    "        return self\n",
    "    \n",
    "    def transform(self, X, y=None):\n",
    "        return X[self.attribs].to_numpy()"
   ]
  },
  {
   "cell_type": "code",
   "execution_count": 132,
   "metadata": {},
   "outputs": [],
   "source": [
    "class string_info_creation(TransformerMixin, BaseEstimator):\n",
    "    def __init__(self):\n",
    "        self.ad_topic_line_idx = 4\n",
    "    \n",
    "    def fit(self, X, y=None):\n",
    "        return self\n",
    "    \n",
    "    def transform(self, X, y=None):\n",
    "        lengths = [len(line) for line in X[:, self.ad_topic_line_idx]]\n",
    "        words = [self.number_of_words(string) for string in X[:, self.ad_topic_line_idx]]\n",
    "        \n",
    "        lengths = np.array(lengths)\n",
    "        words = np.array(words)\n",
    "        \n",
    "        X = np.delete(X, self.ad_topic_line_idx, 1)\n",
    "        return np.c_[X, lengths, words]\n",
    "\n",
    "    def number_of_words(self, string):\n",
    "        return string.count(' ') + 1"
   ]
  },
  {
   "cell_type": "code",
   "execution_count": 133,
   "metadata": {},
   "outputs": [],
   "source": [
    "class new_column_creation(TransformerMixin, BaseEstimator):\n",
    "    def __init__(self):\n",
    "        self.site_time_idx = 0\n",
    "        self.age_idx = 1\n",
    "        self.area_income_idx = 2\n",
    "        self.internet_time_idx = 3\n",
    "        self.length_idx = 4\n",
    "        self.words_idx = 5\n",
    "    \n",
    "    def fit(self, X, y=None):\n",
    "        return self\n",
    "\n",
    "    def transform(self, X, y=None):\n",
    "        site_internet_time_ratio = X[:, self.site_time_idx] / X[:, self.internet_time_idx]\n",
    "        age_divided_site_time = X[:, self.age_idx] / X[:, self.site_time_idx]\n",
    "        income_divided_site_time = X[:, self.area_income_idx] / X[:, self.site_time_idx]\n",
    "        length_divided_site_time = X[:, self.length_idx] / X[:, self.site_time_idx]\n",
    "        length_divided_age = X[:, self.length_idx] / X[:, self.age_idx]\n",
    "        income_divided_length = X[:, self.area_income_idx] / X[:, self.length_idx]\n",
    "        \n",
    "        X = np.delete(X, self.length_idx, 1)\n",
    "        X = np.delete(X, self.words_idx - 1, 1)\n",
    "        \n",
    "        return np.c_[X, site_internet_time_ratio, age_divided_site_time, income_divided_site_time, length_divided_site_time, length_divided_age, income_divided_length]"
   ]
  },
  {
   "cell_type": "code",
   "execution_count": 134,
   "metadata": {
    "scrolled": true
   },
   "outputs": [],
   "source": [
    "num_cols = ['Daily Time Spent on Site', 'Age', 'Area Income', 'Daily Internet Usage', 'Ad Topic Line']\n",
    "\n",
    "num_pipeline = Pipeline([\n",
    "    ('dateframe_selector', DateFrameSelector(num_cols)),\n",
    "    ('string_info', string_info_creation()),\n",
    "    ('column_creation', new_column_creation()),\n",
    "    ('standard scaler', StandardScaler())\n",
    "])\n",
    "\n",
    "label_pipeline = Pipeline([\n",
    "  ('dateframe_selector', DateFrameSelector(['Clicked on Ad'])),  \n",
    "])"
   ]
  },
  {
   "cell_type": "code",
   "execution_count": 135,
   "metadata": {},
   "outputs": [],
   "source": [
    "full_pipeline = FeatureUnion([\n",
    "    ('num_pipeline', num_pipeline),\n",
    "    ('label pipeline', label_pipeline)\n",
    "])"
   ]
  },
  {
   "cell_type": "code",
   "execution_count": 136,
   "metadata": {
    "scrolled": false
   },
   "outputs": [],
   "source": [
    "data = full_pipeline.fit_transform(df)"
   ]
  },
  {
   "cell_type": "code",
   "execution_count": 138,
   "metadata": {},
   "outputs": [
    {
     "data": {
      "text/html": [
       "<div>\n",
       "<style scoped>\n",
       "    .dataframe tbody tr th:only-of-type {\n",
       "        vertical-align: middle;\n",
       "    }\n",
       "\n",
       "    .dataframe tbody tr th {\n",
       "        vertical-align: top;\n",
       "    }\n",
       "\n",
       "    .dataframe thead th {\n",
       "        text-align: right;\n",
       "    }\n",
       "</style>\n",
       "<table border=\"1\" class=\"dataframe\">\n",
       "  <thead>\n",
       "    <tr style=\"text-align: right;\">\n",
       "      <th></th>\n",
       "      <th>Daily Time Spent on Site</th>\n",
       "      <th>Age</th>\n",
       "      <th>Area Income</th>\n",
       "      <th>Daily Internet Usage</th>\n",
       "      <th>Site/Internet</th>\n",
       "      <th>Age/Site</th>\n",
       "      <th>Income/Site</th>\n",
       "      <th>Length/Site</th>\n",
       "      <th>Length/Age</th>\n",
       "      <th>Income/Length</th>\n",
       "      <th>Clicked on Ad</th>\n",
       "    </tr>\n",
       "  </thead>\n",
       "  <tbody>\n",
       "    <tr>\n",
       "      <th>0</th>\n",
       "      <td>0.249267</td>\n",
       "      <td>-0.114905</td>\n",
       "      <td>0.509691</td>\n",
       "      <td>1.734030</td>\n",
       "      <td>-1.056207</td>\n",
       "      <td>-0.371712</td>\n",
       "      <td>0.029738</td>\n",
       "      <td>-0.303311</td>\n",
       "      <td>-0.044433</td>\n",
       "      <td>0.244288</td>\n",
       "      <td>0.0</td>\n",
       "    </tr>\n",
       "    <tr>\n",
       "      <th>1</th>\n",
       "      <td>0.961132</td>\n",
       "      <td>-0.570425</td>\n",
       "      <td>1.002530</td>\n",
       "      <td>0.313805</td>\n",
       "      <td>0.414323</td>\n",
       "      <td>-0.815950</td>\n",
       "      <td>-0.125672</td>\n",
       "      <td>-0.646126</td>\n",
       "      <td>0.370412</td>\n",
       "      <td>0.625646</td>\n",
       "      <td>0.0</td>\n",
       "    </tr>\n",
       "    <tr>\n",
       "      <th>2</th>\n",
       "      <td>0.282083</td>\n",
       "      <td>-1.139826</td>\n",
       "      <td>0.356949</td>\n",
       "      <td>1.287589</td>\n",
       "      <td>-0.807398</td>\n",
       "      <td>-0.860389</td>\n",
       "      <td>-0.098906</td>\n",
       "      <td>-0.463918</td>\n",
       "      <td>0.813883</td>\n",
       "      <td>0.341744</td>\n",
       "      <td>0.0</td>\n",
       "    </tr>\n",
       "    <tr>\n",
       "      <th>3</th>\n",
       "      <td>0.577432</td>\n",
       "      <td>-0.798185</td>\n",
       "      <td>-0.014456</td>\n",
       "      <td>1.501580</td>\n",
       "      <td>-0.728030</td>\n",
       "      <td>-0.798689</td>\n",
       "      <td>-0.530684</td>\n",
       "      <td>-0.274248</td>\n",
       "      <td>0.963123</td>\n",
       "      <td>-0.417752</td>\n",
       "      <td>0.0</td>\n",
       "    </tr>\n",
       "    <tr>\n",
       "      <th>4</th>\n",
       "      <td>0.212664</td>\n",
       "      <td>-0.114905</td>\n",
       "      <td>1.408868</td>\n",
       "      <td>1.038731</td>\n",
       "      <td>-0.712515</td>\n",
       "      <td>-0.355932</td>\n",
       "      <td>0.683558</td>\n",
       "      <td>-0.644242</td>\n",
       "      <td>-0.517234</td>\n",
       "      <td>1.675299</td>\n",
       "      <td>0.0</td>\n",
       "    </tr>\n",
       "  </tbody>\n",
       "</table>\n",
       "</div>"
      ],
      "text/plain": [
       "   Daily Time Spent on Site       Age  Area Income  Daily Internet Usage  \\\n",
       "0                  0.249267 -0.114905     0.509691              1.734030   \n",
       "1                  0.961132 -0.570425     1.002530              0.313805   \n",
       "2                  0.282083 -1.139826     0.356949              1.287589   \n",
       "3                  0.577432 -0.798185    -0.014456              1.501580   \n",
       "4                  0.212664 -0.114905     1.408868              1.038731   \n",
       "\n",
       "   Site/Internet  Age/Site  Income/Site  Length/Site  Length/Age  \\\n",
       "0      -1.056207 -0.371712     0.029738    -0.303311   -0.044433   \n",
       "1       0.414323 -0.815950    -0.125672    -0.646126    0.370412   \n",
       "2      -0.807398 -0.860389    -0.098906    -0.463918    0.813883   \n",
       "3      -0.728030 -0.798689    -0.530684    -0.274248    0.963123   \n",
       "4      -0.712515 -0.355932     0.683558    -0.644242   -0.517234   \n",
       "\n",
       "   Income/Length  Clicked on Ad  \n",
       "0       0.244288            0.0  \n",
       "1       0.625646            0.0  \n",
       "2       0.341744            0.0  \n",
       "3      -0.417752            0.0  \n",
       "4       1.675299            0.0  "
      ]
     },
     "execution_count": 138,
     "metadata": {},
     "output_type": "execute_result"
    }
   ],
   "source": [
    "cols = ['Daily Time Spent on Site', 'Age', 'Area Income', 'Daily Internet Usage', 'Site/Internet', 'Age/Site', 'Income/Site', 'Length/Site', 'Length/Age', 'Income/Length', 'Clicked on Ad']\n",
    "\n",
    "feature_engineered = pd.DataFrame(data, columns=cols)\n",
    "feature_engineered.head()"
   ]
  },
  {
   "cell_type": "code",
   "execution_count": 140,
   "metadata": {},
   "outputs": [],
   "source": [
    "feature_engineered.to_csv('feature_engineered_cols.csv', index=False)"
   ]
  }
 ],
 "metadata": {
  "kernelspec": {
   "display_name": "Python 3.7.3 64-bit",
   "language": "python",
   "name": "python37364bitfa9893814aec4ef7b4684d6771155a64"
  },
  "language_info": {
   "codemirror_mode": {
    "name": "ipython",
    "version": 3
   },
   "file_extension": ".py",
   "mimetype": "text/x-python",
   "name": "python",
   "nbconvert_exporter": "python",
   "pygments_lexer": "ipython3",
   "version": "3.7.3"
  }
 },
 "nbformat": 4,
 "nbformat_minor": 2
}
