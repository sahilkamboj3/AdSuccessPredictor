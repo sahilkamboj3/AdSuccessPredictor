{
 "cells": [
  {
   "cell_type": "code",
   "execution_count": 91,
   "metadata": {},
   "outputs": [],
   "source": [
    "import pandas as pd\n",
    "from scipy import stats\n",
    "from statsmodels.stats import weightstats\n",
    "\n",
    "from sklearn.svm import LinearSVC\n",
    "from sklearn.model_selection import cross_val_score, cross_val_predict, GridSearchCV, train_test_split\n",
    "from sklearn.metrics import f1_score, precision_score, recall_score, roc_auc_score, confusion_matrix"
   ]
  },
  {
   "cell_type": "markdown",
   "metadata": {},
   "source": [
    "# Data Retrieval"
   ]
  },
  {
   "cell_type": "code",
   "execution_count": 75,
   "metadata": {},
   "outputs": [],
   "source": [
    "orgin_stat_sig = pd.read_csv('orig_stat_sig.csv')\n",
    "feature_eng = pd.read_csv('feature_engineered_cols.csv')\n",
    "\n",
    "orgin_stat_sig.head()\n",
    "\n",
    "train_1, test_1 = train_test_split(orgin_stat_sig, train_size=0.8)\n",
    "\n",
    "train_1_X = train_1.loc[:, 'Daily Time Spent on Site': 'Age']\n",
    "train_1_y = train_1['Clicked on Ad']\n",
    "\n",
    "feature_eng.head()\n",
    "\n",
    "train_2, test_2 = train_test_split(feature_eng, train_size=0.8)\n",
    "\n",
    "train_2_X = train_2.loc[:, 'Daily Time Spent on Site': 'Income/Length']\n",
    "train_2_y = train_2['Clicked on Ad']"
   ]
  },
  {
   "cell_type": "markdown",
   "metadata": {},
   "source": [
    "# Model Preparation"
   ]
  },
  {
   "cell_type": "code",
   "execution_count": 76,
   "metadata": {},
   "outputs": [],
   "source": [
    "svc = LinearSVC(random_state=42, max_iter=5000)\n",
    "svc2 = LinearSVC(random_state=42, max_iter=5000)\n",
    "\n",
    "param_grid = [\n",
    "    {\n",
    "        'C': [0.1, 0.5, 1, 2.5, 5]\n",
    "    }\n",
    "]\n",
    "\n",
    "cv_len = 5"
   ]
  },
  {
   "cell_type": "markdown",
   "metadata": {},
   "source": [
    "## Testing Just Statistically Significant Features First"
   ]
  },
  {
   "cell_type": "code",
   "execution_count": 77,
   "metadata": {},
   "outputs": [],
   "source": [
    "svc_grid_search = GridSearchCV(svc, param_grid, cv=cv_len, scoring=['accuracy', 'f1'], refit='f1')"
   ]
  },
  {
   "cell_type": "code",
   "execution_count": 78,
   "metadata": {},
   "outputs": [
    {
     "data": {
      "text/plain": [
       "GridSearchCV(cv=5, error_score='raise-deprecating',\n",
       "             estimator=LinearSVC(C=1.0, class_weight=None, dual=True,\n",
       "                                 fit_intercept=True, intercept_scaling=1,\n",
       "                                 loss='squared_hinge', max_iter=5000,\n",
       "                                 multi_class='ovr', penalty='l2',\n",
       "                                 random_state=42, tol=0.0001, verbose=0),\n",
       "             iid='warn', n_jobs=None, param_grid=[{'C': [0.1, 0.5, 1, 2.5, 5]}],\n",
       "             pre_dispatch='2*n_jobs', refit='f1', return_train_score=False,\n",
       "             scoring=['accuracy', 'f1'], verbose=0)"
      ]
     },
     "execution_count": 78,
     "metadata": {},
     "output_type": "execute_result"
    }
   ],
   "source": [
    "svc_grid_search.fit(train_1_X, train_1_y)"
   ]
  },
  {
   "cell_type": "code",
   "execution_count": 79,
   "metadata": {},
   "outputs": [
    {
     "data": {
      "text/plain": [
       "LinearSVC(C=0.1, class_weight=None, dual=True, fit_intercept=True,\n",
       "          intercept_scaling=1, loss='squared_hinge', max_iter=5000,\n",
       "          multi_class='ovr', penalty='l2', random_state=42, tol=0.0001,\n",
       "          verbose=0)"
      ]
     },
     "execution_count": 79,
     "metadata": {},
     "output_type": "execute_result"
    }
   ],
   "source": [
    "svc_grid_search.best_estimator_"
   ]
  },
  {
   "cell_type": "code",
   "execution_count": 80,
   "metadata": {},
   "outputs": [
    {
     "data": {
      "text/plain": [
       "{'C': 0.1}"
      ]
     },
     "execution_count": 80,
     "metadata": {},
     "output_type": "execute_result"
    }
   ],
   "source": [
    "svc_grid_search.best_params_"
   ]
  },
  {
   "cell_type": "code",
   "execution_count": 81,
   "metadata": {},
   "outputs": [
    {
     "data": {
      "text/plain": [
       "0.9630114533809045"
      ]
     },
     "execution_count": 81,
     "metadata": {},
     "output_type": "execute_result"
    }
   ],
   "source": [
    "svc_grid_search.best_score_"
   ]
  },
  {
   "cell_type": "markdown",
   "metadata": {},
   "source": [
    "## Testing Just New Features + Statistically Significant Features "
   ]
  },
  {
   "cell_type": "code",
   "execution_count": 82,
   "metadata": {},
   "outputs": [],
   "source": [
    "svc_grid_search_2 = GridSearchCV(svc2, param_grid, cv=cv_len, scoring=['accuracy', 'f1'], refit='f1')"
   ]
  },
  {
   "cell_type": "code",
   "execution_count": 83,
   "metadata": {},
   "outputs": [
    {
     "data": {
      "text/plain": [
       "GridSearchCV(cv=5, error_score='raise-deprecating',\n",
       "             estimator=LinearSVC(C=1.0, class_weight=None, dual=True,\n",
       "                                 fit_intercept=True, intercept_scaling=1,\n",
       "                                 loss='squared_hinge', max_iter=5000,\n",
       "                                 multi_class='ovr', penalty='l2',\n",
       "                                 random_state=42, tol=0.0001, verbose=0),\n",
       "             iid='warn', n_jobs=None, param_grid=[{'C': [0.1, 0.5, 1, 2.5, 5]}],\n",
       "             pre_dispatch='2*n_jobs', refit='f1', return_train_score=False,\n",
       "             scoring=['accuracy', 'f1'], verbose=0)"
      ]
     },
     "execution_count": 83,
     "metadata": {},
     "output_type": "execute_result"
    }
   ],
   "source": [
    "svc_grid_search_2.fit(train_2_X, train_2_y)"
   ]
  },
  {
   "cell_type": "code",
   "execution_count": 84,
   "metadata": {},
   "outputs": [
    {
     "data": {
      "text/plain": [
       "LinearSVC(C=0.5, class_weight=None, dual=True, fit_intercept=True,\n",
       "          intercept_scaling=1, loss='squared_hinge', max_iter=5000,\n",
       "          multi_class='ovr', penalty='l2', random_state=42, tol=0.0001,\n",
       "          verbose=0)"
      ]
     },
     "execution_count": 84,
     "metadata": {},
     "output_type": "execute_result"
    }
   ],
   "source": [
    "svc_grid_search_2.best_estimator_"
   ]
  },
  {
   "cell_type": "code",
   "execution_count": 85,
   "metadata": {},
   "outputs": [
    {
     "data": {
      "text/plain": [
       "{'C': 0.5}"
      ]
     },
     "execution_count": 85,
     "metadata": {},
     "output_type": "execute_result"
    }
   ],
   "source": [
    "svc_grid_search_2.best_params_"
   ]
  },
  {
   "cell_type": "code",
   "execution_count": 86,
   "metadata": {},
   "outputs": [
    {
     "data": {
      "text/plain": [
       "0.9683496732026144"
      ]
     },
     "execution_count": 86,
     "metadata": {},
     "output_type": "execute_result"
    }
   ],
   "source": [
    "svc_grid_search_2.best_score_"
   ]
  },
  {
   "cell_type": "markdown",
   "metadata": {},
   "source": [
    "# Statistical Signficance Test"
   ]
  },
  {
   "cell_type": "code",
   "execution_count": 127,
   "metadata": {},
   "outputs": [
    {
     "name": "stdout",
     "output_type": "stream",
     "text": [
      "mean: 0.9675\n",
      "std: 0.10794481614849939\n",
      "\n",
      "mean: 0.9616666666666667\n",
      "std: 0.12157530816557924\n",
      "\n",
      "0.6204147676208136\n",
      "0.5352244224712258\n",
      "fail to reject, not stat sig\n"
     ]
    }
   ],
   "source": [
    "cv_len = 300\n",
    "\n",
    "def scores_info(scores):\n",
    "#     print(f'scores: {scores}')\n",
    "    print(f'mean: {scores.mean()}')\n",
    "    print(f'std: {scores.std()}\\n')\n",
    "\n",
    "model1 = svc_grid_search.best_estimator_\n",
    "model2 = svc_grid_search_2.best_estimator_\n",
    "\n",
    "scores1 = cross_val_score(model1, train_1_X, train_1_y, cv=cv_len)\n",
    "scores2 = cross_val_score(model2, train_2_X, train_2_y, cv=cv_len)\n",
    "\n",
    "ALPHA = 0.05\n",
    "\n",
    "scores_info(scores1)\n",
    "scores_info(scores2)\n",
    "\n",
    "statistic, p = stats.ttest_ind(scores1, scores2, equal_var=False) \n",
    "\n",
    "print(statistic)\n",
    "print(p)\n",
    "\n",
    "if p < ALPHA:\n",
    "    print('statistically significant')\n",
    "else:\n",
    "    print('fail to reject, not stat sig')"
   ]
  },
  {
   "cell_type": "markdown",
   "metadata": {},
   "source": [
    "# Cross Val Predict"
   ]
  },
  {
   "cell_type": "code",
   "execution_count": 128,
   "metadata": {},
   "outputs": [],
   "source": [
    "def score_comparison_info(y_preds, y_trues):\n",
    "    conf_matrix = confusion_matrix(y_preds, y_trues)\n",
    "    f1 = f1_score(y_preds, y_trues)\n",
    "    precision = precision_score(y_preds, y_trues)\n",
    "    recall = recall_score(y_preds, y_trues)\n",
    "    area_under_curve = roc_auc_score(y_preds, y_trues)\n",
    "    \n",
    "    return conf_matrix, precision, recall, f1, area_under_curve"
   ]
  },
  {
   "cell_type": "markdown",
   "metadata": {},
   "source": [
    "### Original Statistically Significant Features"
   ]
  },
  {
   "cell_type": "code",
   "execution_count": 129,
   "metadata": {},
   "outputs": [
    {
     "name": "stdout",
     "output_type": "stream",
     "text": [
      "[[392  20]\n",
      " [  9 379]],\n",
      " precision: 0.949874686716792,\n",
      " recall: 0.9768041237113402,\n",
      " f1: 0.9631512071156291,\n",
      " Area under Curve: 0.9641302171954761\n"
     ]
    }
   ],
   "source": [
    "preds = cross_val_predict(model1, train_1_X, train_1_y, cv=cv_len, method='decision_function')\n",
    "scores_array = []\n",
    "\n",
    "for i in preds:\n",
    "    if i > 0:\n",
    "        scores_array.append(1)\n",
    "    else:\n",
    "        scores_array.append(0)  \n",
    "\n",
    "conf_matrix, precision, recall, f1, area_under_curve = score_comparison_info(scores_array, train_1_y) \n",
    "print(f'{conf_matrix},\\n precision: {precision},\\n recall: {recall},\\n f1: {f1},\\n Area under Curve: {area_under_curve}')"
   ]
  },
  {
   "cell_type": "markdown",
   "metadata": {},
   "source": [
    "### Original Statistically Significant Features + New Features"
   ]
  },
  {
   "cell_type": "code",
   "execution_count": 130,
   "metadata": {},
   "outputs": [
    {
     "name": "stdout",
     "output_type": "stream",
     "text": [
      "[[388  17]\n",
      " [ 13 382]],\n",
      " precision: 0.9573934837092731,\n",
      " recall: 0.9670886075949368,\n",
      " f1: 0.9622166246851387,\n",
      " Area under Curve: 0.9625566494764807\n"
     ]
    }
   ],
   "source": [
    "preds = cross_val_predict(model2, train_2_X, train_2_y, cv=cv_len, method='decision_function')\n",
    "scores_array = []\n",
    "\n",
    "for i in preds:\n",
    "    if i > 0:\n",
    "        scores_array.append(1)\n",
    "    else:\n",
    "        scores_array.append(0)  \n",
    "\n",
    "conf_matrix, precision, recall, f1, area_under_curve = score_comparison_info(scores_array, train_2_y) \n",
    "print(f'{conf_matrix},\\n precision: {precision},\\n recall: {recall},\\n f1: {f1},\\n Area under Curve: {area_under_curve}')"
   ]
  }
 ],
 "metadata": {
  "kernelspec": {
   "display_name": "Python 3.7.3 64-bit",
   "language": "python",
   "name": "python37364bitfa9893814aec4ef7b4684d6771155a64"
  },
  "language_info": {
   "codemirror_mode": {
    "name": "ipython",
    "version": 3
   },
   "file_extension": ".py",
   "mimetype": "text/x-python",
   "name": "python",
   "nbconvert_exporter": "python",
   "pygments_lexer": "ipython3",
   "version": "3.7.3"
  }
 },
 "nbformat": 4,
 "nbformat_minor": 2
}
