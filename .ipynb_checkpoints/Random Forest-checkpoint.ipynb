{
 "cells": [
  {
   "cell_type": "code",
   "execution_count": 64,
   "metadata": {},
   "outputs": [],
   "source": [
    "import pandas as pd\n",
    "from scipy import stats\n",
    "from statsmodels.stats import weightstats\n",
    "\n",
    "from sklearn.ensemble import RandomForestClassifier\n",
    "from sklearn.model_selection import cross_val_score, cross_val_predict, GridSearchCV, train_test_split\n",
    "from sklearn.metrics import f1_score, precision_score, recall_score, roc_auc_score, confusion_matrix"
   ]
  },
  {
   "cell_type": "markdown",
   "metadata": {},
   "source": [
    "# Data Retrieval"
   ]
  },
  {
   "cell_type": "code",
   "execution_count": 43,
   "metadata": {},
   "outputs": [
    {
     "name": "stdout",
     "output_type": "stream",
     "text": [
      "   Daily Time Spent on Site  Area Income  Daily Internet Usage       Age  \\\n",
      "0                  0.249267     0.509691              1.734030 -0.114905   \n",
      "1                  0.961132     1.002530              0.313805 -0.570425   \n",
      "2                  0.282083     0.356949              1.287589 -1.139826   \n",
      "3                  0.577432    -0.014456              1.501580 -0.798185   \n",
      "4                  0.212664     1.408868              1.038731 -0.114905   \n",
      "\n",
      "   Clicked on Ad  \n",
      "0            0.0  \n",
      "1            0.0  \n",
      "2            0.0  \n",
      "3            0.0  \n",
      "4            0.0  \n",
      "   Daily Time Spent on Site       Age  Area Income  Daily Internet Usage  \\\n",
      "0                  0.249267 -0.114905     0.509691              1.734030   \n",
      "1                  0.961132 -0.570425     1.002530              0.313805   \n",
      "2                  0.282083 -1.139826     0.356949              1.287589   \n",
      "3                  0.577432 -0.798185    -0.014456              1.501580   \n",
      "4                  0.212664 -0.114905     1.408868              1.038731   \n",
      "\n",
      "   Site/Internet  Age/Site  Income/Site  Length/Site  Length/Age  \\\n",
      "0      -1.056207 -0.371712     0.029738    -0.303311   -0.044433   \n",
      "1       0.414323 -0.815950    -0.125672    -0.646126    0.370412   \n",
      "2      -0.807398 -0.860389    -0.098906    -0.463918    0.813883   \n",
      "3      -0.728030 -0.798689    -0.530684    -0.274248    0.963123   \n",
      "4      -0.712515 -0.355932     0.683558    -0.644242   -0.517234   \n",
      "\n",
      "   Income/Length  Clicked on Ad  \n",
      "0       0.244288            0.0  \n",
      "1       0.625646            0.0  \n",
      "2       0.341744            0.0  \n",
      "3      -0.417752            0.0  \n",
      "4       1.675299            0.0  \n"
     ]
    }
   ],
   "source": [
    "orgin_stat_sig = pd.read_csv('orig_stat_sig.csv')\n",
    "feature_eng = pd.read_csv('feature_engineered_cols.csv')\n",
    "\n",
    "print(orgin_stat_sig.head())\n",
    "print(feature_eng.head())\n",
    "\n",
    "\n",
    "train_1, test_1 = train_test_split(orgin_stat_sig, train_size=0.8)\n",
    "train_2, test_2 = train_test_split(feature_eng, train_size=0.8)\n",
    "\n",
    "train_1_X = train_1.loc[:, 'Daily Time Spent on Site': 'Age']\n",
    "train_1_y = train_1['Clicked on Ad']\n",
    "\n",
    "train_2_X = train_2.loc[:, 'Daily Time Spent on Site': 'Income/Length']\n",
    "train_2_y = train_2['Clicked on Ad']"
   ]
  },
  {
   "cell_type": "markdown",
   "metadata": {},
   "source": [
    "# Model Preparation"
   ]
  },
  {
   "cell_type": "code",
   "execution_count": 44,
   "metadata": {},
   "outputs": [],
   "source": [
    "rfc = RandomForestClassifier(random_state=42)\n",
    "rfc2 = RandomForestClassifier(random_state=42)\n",
    "\n",
    "param_grid = [\n",
    "    {\n",
    "        'max_features': ['sqrt', 'log2'],\n",
    "        'n_estimators': [100, 200, 250, 500],\n",
    "        'min_impurity_decrease': [0.0, 1e-7] \n",
    "    }\n",
    "]\n",
    "\n",
    "cv_len = 5"
   ]
  },
  {
   "cell_type": "markdown",
   "metadata": {},
   "source": [
    "## Testing Just Statistically Significant Features First"
   ]
  },
  {
   "cell_type": "code",
   "execution_count": 45,
   "metadata": {},
   "outputs": [],
   "source": [
    "rfc_grid_search = GridSearchCV(rfc, param_grid, cv=cv_len, scoring=['accuracy', 'f1'], refit='f1')"
   ]
  },
  {
   "cell_type": "code",
   "execution_count": 46,
   "metadata": {},
   "outputs": [
    {
     "data": {
      "text/plain": [
       "GridSearchCV(cv=5, error_score='raise-deprecating',\n",
       "             estimator=RandomForestClassifier(bootstrap=True, class_weight=None,\n",
       "                                              criterion='gini', max_depth=None,\n",
       "                                              max_features='auto',\n",
       "                                              max_leaf_nodes=None,\n",
       "                                              min_impurity_decrease=0.0,\n",
       "                                              min_impurity_split=None,\n",
       "                                              min_samples_leaf=1,\n",
       "                                              min_samples_split=2,\n",
       "                                              min_weight_fraction_leaf=0.0,\n",
       "                                              n_estimators='warn', n_jobs=None,\n",
       "                                              oob_score=False, random_state=42,\n",
       "                                              verbose=0, warm_start=False),\n",
       "             iid='warn', n_jobs=None,\n",
       "             param_grid=[{'max_features': ['sqrt', 'log2'],\n",
       "                          'min_impurity_decrease': [0.0, 1e-07],\n",
       "                          'n_estimators': [100, 200, 250, 500]}],\n",
       "             pre_dispatch='2*n_jobs', refit='f1', return_train_score=False,\n",
       "             scoring=['accuracy', 'f1'], verbose=0)"
      ]
     },
     "execution_count": 46,
     "metadata": {},
     "output_type": "execute_result"
    }
   ],
   "source": [
    "rfc_grid_search.fit(train_1_X, train_1_y)"
   ]
  },
  {
   "cell_type": "code",
   "execution_count": 47,
   "metadata": {},
   "outputs": [
    {
     "data": {
      "text/plain": [
       "RandomForestClassifier(bootstrap=True, class_weight=None, criterion='gini',\n",
       "                       max_depth=None, max_features='sqrt', max_leaf_nodes=None,\n",
       "                       min_impurity_decrease=0.0, min_impurity_split=None,\n",
       "                       min_samples_leaf=1, min_samples_split=2,\n",
       "                       min_weight_fraction_leaf=0.0, n_estimators=250,\n",
       "                       n_jobs=None, oob_score=False, random_state=42, verbose=0,\n",
       "                       warm_start=False)"
      ]
     },
     "execution_count": 47,
     "metadata": {},
     "output_type": "execute_result"
    }
   ],
   "source": [
    "rfc_grid_search.best_estimator_"
   ]
  },
  {
   "cell_type": "code",
   "execution_count": 48,
   "metadata": {},
   "outputs": [
    {
     "data": {
      "text/plain": [
       "{'max_features': 'sqrt', 'min_impurity_decrease': 0.0, 'n_estimators': 250}"
      ]
     },
     "execution_count": 48,
     "metadata": {},
     "output_type": "execute_result"
    }
   ],
   "source": [
    "rfc_grid_search.best_params_"
   ]
  },
  {
   "cell_type": "code",
   "execution_count": 49,
   "metadata": {},
   "outputs": [
    {
     "data": {
      "text/plain": [
       "0.9605055144537558"
      ]
     },
     "execution_count": 49,
     "metadata": {},
     "output_type": "execute_result"
    }
   ],
   "source": [
    "rfc_grid_search.best_score_"
   ]
  },
  {
   "cell_type": "markdown",
   "metadata": {},
   "source": [
    "## Testing Just New Features + Statistically Significant Features "
   ]
  },
  {
   "cell_type": "code",
   "execution_count": 50,
   "metadata": {},
   "outputs": [],
   "source": [
    "rfc_grid_search_2 = GridSearchCV(rfc, param_grid, cv=cv_len, scoring=['accuracy', 'f1'], refit='f1')"
   ]
  },
  {
   "cell_type": "code",
   "execution_count": 51,
   "metadata": {},
   "outputs": [
    {
     "data": {
      "text/plain": [
       "GridSearchCV(cv=5, error_score='raise-deprecating',\n",
       "             estimator=RandomForestClassifier(bootstrap=True, class_weight=None,\n",
       "                                              criterion='gini', max_depth=None,\n",
       "                                              max_features='auto',\n",
       "                                              max_leaf_nodes=None,\n",
       "                                              min_impurity_decrease=0.0,\n",
       "                                              min_impurity_split=None,\n",
       "                                              min_samples_leaf=1,\n",
       "                                              min_samples_split=2,\n",
       "                                              min_weight_fraction_leaf=0.0,\n",
       "                                              n_estimators='warn', n_jobs=None,\n",
       "                                              oob_score=False, random_state=42,\n",
       "                                              verbose=0, warm_start=False),\n",
       "             iid='warn', n_jobs=None,\n",
       "             param_grid=[{'max_features': ['sqrt', 'log2'],\n",
       "                          'min_impurity_decrease': [0.0, 1e-07],\n",
       "                          'n_estimators': [100, 200, 250, 500]}],\n",
       "             pre_dispatch='2*n_jobs', refit='f1', return_train_score=False,\n",
       "             scoring=['accuracy', 'f1'], verbose=0)"
      ]
     },
     "execution_count": 51,
     "metadata": {},
     "output_type": "execute_result"
    }
   ],
   "source": [
    "rfc_grid_search_2.fit(train_2_X, train_2_y)"
   ]
  },
  {
   "cell_type": "code",
   "execution_count": 52,
   "metadata": {},
   "outputs": [
    {
     "data": {
      "text/plain": [
       "RandomForestClassifier(bootstrap=True, class_weight=None, criterion='gini',\n",
       "                       max_depth=None, max_features='sqrt', max_leaf_nodes=None,\n",
       "                       min_impurity_decrease=0.0, min_impurity_split=None,\n",
       "                       min_samples_leaf=1, min_samples_split=2,\n",
       "                       min_weight_fraction_leaf=0.0, n_estimators=500,\n",
       "                       n_jobs=None, oob_score=False, random_state=42, verbose=0,\n",
       "                       warm_start=False)"
      ]
     },
     "execution_count": 52,
     "metadata": {},
     "output_type": "execute_result"
    }
   ],
   "source": [
    "rfc_grid_search_2.best_estimator_"
   ]
  },
  {
   "cell_type": "code",
   "execution_count": 53,
   "metadata": {},
   "outputs": [
    {
     "data": {
      "text/plain": [
       "{'max_features': 'sqrt', 'min_impurity_decrease': 0.0, 'n_estimators': 500}"
      ]
     },
     "execution_count": 53,
     "metadata": {},
     "output_type": "execute_result"
    }
   ],
   "source": [
    "rfc_grid_search_2.best_params_"
   ]
  },
  {
   "cell_type": "code",
   "execution_count": 54,
   "metadata": {},
   "outputs": [
    {
     "data": {
      "text/plain": [
       "0.9620897702728083"
      ]
     },
     "execution_count": 54,
     "metadata": {},
     "output_type": "execute_result"
    }
   ],
   "source": [
    "rfc_grid_search_2.best_score_"
   ]
  },
  {
   "cell_type": "markdown",
   "metadata": {},
   "source": [
    "# Statistical Signficance Test"
   ]
  },
  {
   "cell_type": "code",
   "execution_count": 72,
   "metadata": {},
   "outputs": [
    {
     "name": "stdout",
     "output_type": "stream",
     "text": [
      "mean: 0.9633333333333334\n",
      "std: 0.12378296418418096\n",
      "\n",
      "mean: 0.9583333333333334\n",
      "std: 0.13819269959814168\n",
      "\n",
      "\n",
      "0.46601905019522927\n",
      "0.6413735997063059\n",
      "fail to reject, not stat sig\n"
     ]
    }
   ],
   "source": [
    "cv_len = 300\n",
    "\n",
    "def scores_info(scores):\n",
    "#     print(f'scores: {scores}')\n",
    "    print(f'mean: {scores.mean()}')\n",
    "    print(f'std: {scores.std()}')\n",
    "    print('')\n",
    "    \n",
    "model1 = rfc_grid_search.best_estimator_\n",
    "model2 = rfc_grid_search_2.best_estimator_\n",
    "\n",
    "scores1 = cross_val_score(model1, train_1_X, train_1_y, cv=cv_len)\n",
    "scores2 = cross_val_score(model2, train_2_X, train_2_y, cv=cv_len)\n",
    "\n",
    "scores_info(scores1)\n",
    "scores_info(scores2)\n",
    "\n",
    "ALPHA = 0.05\n",
    "\n",
    "statistic, p = stats.ttest_ind(scores1, scores2, equal_var=False) \n",
    "\n",
    "print('')\n",
    "print(statistic)\n",
    "print(p)\n",
    "\n",
    "if p < ALPHA:\n",
    "    print('statistically significant')\n",
    "else:\n",
    "    print('fail to reject, not stat sig')"
   ]
  },
  {
   "cell_type": "markdown",
   "metadata": {},
   "source": [
    "# Cross Val Predict"
   ]
  },
  {
   "cell_type": "code",
   "execution_count": 85,
   "metadata": {},
   "outputs": [],
   "source": [
    "def score_comparison_info(y_preds, y_trues):\n",
    "    conf_matrix = confusion_matrix(y_preds, y_trues)\n",
    "    f1 = f1_score(y_preds, y_trues)\n",
    "    precision = precision_score(y_preds, y_trues)\n",
    "    recall = recall_score(y_preds, y_trues)\n",
    "    area_under_curve = roc_auc_score(y_preds, y_trues)\n",
    "    \n",
    "    return conf_matrix, precision, recall, f1, area_under_curve"
   ]
  },
  {
   "cell_type": "markdown",
   "metadata": {},
   "source": [
    "### Original Statistically Significant Features"
   ]
  },
  {
   "cell_type": "code",
   "execution_count": 86,
   "metadata": {},
   "outputs": [],
   "source": [
    "preds = cross_val_predict(model1, train_1_X, train_1_y, cv=cv_len, method='predict_proba')"
   ]
  },
  {
   "cell_type": "code",
   "execution_count": 87,
   "metadata": {},
   "outputs": [],
   "source": [
    "final_scores = []\n",
    "\n",
    "for pred in preds:\n",
    "    final_scores.append(pred.argmax())"
   ]
  },
  {
   "cell_type": "code",
   "execution_count": 88,
   "metadata": {
    "scrolled": false
   },
   "outputs": [],
   "source": [
    "conf_matrix, precision, recall, f1, area_under_curve = score_comparison_info(final_scores, train_1_y)"
   ]
  },
  {
   "cell_type": "code",
   "execution_count": 89,
   "metadata": {},
   "outputs": [
    {
     "name": "stdout",
     "output_type": "stream",
     "text": [
      "[[392  16]\n",
      " [ 14 378]],\n",
      " precision: 0.9593908629441624,\n",
      " recall: 0.9642857142857143,\n",
      " f1: 0.9618320610687023,\n",
      " Area under Curve: 0.9625350140056024\n"
     ]
    }
   ],
   "source": [
    "print(f'{conf_matrix},\\n precision: {precision},\\n recall: {recall},\\n f1: {f1},\\n Area under Curve: {area_under_curve}')"
   ]
  },
  {
   "cell_type": "markdown",
   "metadata": {},
   "source": [
    "### Original Statistically Significant Features + New Features"
   ]
  },
  {
   "cell_type": "code",
   "execution_count": 90,
   "metadata": {},
   "outputs": [],
   "source": [
    "preds = cross_val_predict(model2, train_2_X, train_2_y, cv=cv_len, method='predict_proba')\n",
    "\n",
    "final_scores = []\n",
    "\n",
    "for pred in preds:\n",
    "    final_scores.append(pred.argmax())"
   ]
  },
  {
   "cell_type": "code",
   "execution_count": 92,
   "metadata": {},
   "outputs": [
    {
     "name": "stdout",
     "output_type": "stream",
     "text": [
      "[[390  17]\n",
      " [ 13 380]],\n",
      " precision: 0.9571788413098237,\n",
      " recall: 0.9669211195928753,\n",
      " f1: 0.9620253164556962,\n",
      " Area under Curve: 0.9625760389119168\n"
     ]
    }
   ],
   "source": [
    "conf_matrix, precision, recall, f1, area_under_curve = score_comparison_info(final_scores, train_2_y)\n",
    "print(f'{conf_matrix},\\n precision: {precision},\\n recall: {recall},\\n f1: {f1},\\n Area under Curve: {area_under_curve}')"
   ]
  }
 ],
 "metadata": {
  "kernelspec": {
   "display_name": "Python 3.7.3 64-bit",
   "language": "python",
   "name": "python37364bitfa9893814aec4ef7b4684d6771155a64"
  },
  "language_info": {
   "codemirror_mode": {
    "name": "ipython",
    "version": 3
   },
   "file_extension": ".py",
   "mimetype": "text/x-python",
   "name": "python",
   "nbconvert_exporter": "python",
   "pygments_lexer": "ipython3",
   "version": "3.7.3"
  }
 },
 "nbformat": 4,
 "nbformat_minor": 2
}
