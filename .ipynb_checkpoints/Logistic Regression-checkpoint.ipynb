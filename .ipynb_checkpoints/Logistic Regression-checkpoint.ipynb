{
 "cells": [
  {
   "cell_type": "code",
   "execution_count": 67,
   "metadata": {},
   "outputs": [],
   "source": [
    "import pandas as pd\n",
    "from scipy import stats\n",
    "from statsmodels.stats import weightstats\n",
    "import warnings\n",
    "\n",
    "from sklearn.linear_model import LogisticRegression\n",
    "from sklearn.model_selection import cross_val_score, cross_val_predict, GridSearchCV, train_test_split\n",
    "from sklearn.metrics import f1_score, precision_score, recall_score, roc_auc_score, confusion_matrix\n",
    "\n",
    "warnings.filterwarnings('ignore')"
   ]
  },
  {
   "cell_type": "markdown",
   "metadata": {},
   "source": [
    "# Data Retrieval"
   ]
  },
  {
   "cell_type": "code",
   "execution_count": 91,
   "metadata": {},
   "outputs": [],
   "source": [
    "orgin_stat_sig = pd.read_csv('orig_stat_sig.csv')\n",
    "feature_eng = pd.read_csv('feature_engineered_cols.csv')\n",
    "\n",
    "orgin_stat_sig.head()\n",
    "\n",
    "train_1, test_1 = train_test_split(orgin_stat_sig, train_size=0.8)\n",
    "\n",
    "train_1_X = train_1.loc[:, 'Daily Time Spent on Site': 'Age']\n",
    "train_1_y = train_1['Clicked on Ad']\n",
    "\n",
    "feature_eng.head()\n",
    "\n",
    "train_2, test_2 = train_test_split(feature_eng, train_size=0.8)\n",
    "\n",
    "train_2_X = train_2.loc[:, 'Daily Time Spent on Site': 'Income/Length']\n",
    "train_2_y = train_2['Clicked on Ad']"
   ]
  },
  {
   "cell_type": "markdown",
   "metadata": {},
   "source": [
    "# Data Preparation"
   ]
  },
  {
   "cell_type": "code",
   "execution_count": 48,
   "metadata": {},
   "outputs": [],
   "source": [
    "lr = LogisticRegression(random_state=42, solver='liblinear')\n",
    "lr2 = LogisticRegression(random_state=42, solver='liblinear')\n",
    "\n",
    "param_grid = [\n",
    "    {\n",
    "        'C': [0.1, 0.5, 1, 2.5, 5],\n",
    "        'n_jobs': [-1]\n",
    "    }\n",
    "]\n",
    "\n",
    "cv_len = 5"
   ]
  },
  {
   "cell_type": "markdown",
   "metadata": {},
   "source": [
    "## Testing Just Statistically Significant Features First"
   ]
  },
  {
   "cell_type": "code",
   "execution_count": 49,
   "metadata": {},
   "outputs": [],
   "source": [
    "lr_grid_search = GridSearchCV(lr, param_grid, cv=cv_len, scoring=['accuracy', 'f1'], refit='f1')"
   ]
  },
  {
   "cell_type": "code",
   "execution_count": 50,
   "metadata": {
    "scrolled": true
   },
   "outputs": [
    {
     "data": {
      "text/plain": [
       "GridSearchCV(cv=5, error_score='raise-deprecating',\n",
       "             estimator=LogisticRegression(C=1.0, class_weight=None, dual=False,\n",
       "                                          fit_intercept=True,\n",
       "                                          intercept_scaling=1, l1_ratio=None,\n",
       "                                          max_iter=100, multi_class='warn',\n",
       "                                          n_jobs=None, penalty='l2',\n",
       "                                          random_state=42, solver='liblinear',\n",
       "                                          tol=0.0001, verbose=0,\n",
       "                                          warm_start=False),\n",
       "             iid='warn', n_jobs=None,\n",
       "             param_grid=[{'C': [0.1, 0.5, 1, 2.5, 5], 'n_jobs': [-1]}],\n",
       "             pre_dispatch='2*n_jobs', refit='f1', return_train_score=False,\n",
       "             scoring=['accuracy', 'f1'], verbose=0)"
      ]
     },
     "execution_count": 50,
     "metadata": {},
     "output_type": "execute_result"
    }
   ],
   "source": [
    "lr_grid_search.fit(train_1_X, train_1_y)"
   ]
  },
  {
   "cell_type": "code",
   "execution_count": 51,
   "metadata": {},
   "outputs": [
    {
     "data": {
      "text/plain": [
       "LogisticRegression(C=1, class_weight=None, dual=False, fit_intercept=True,\n",
       "                   intercept_scaling=1, l1_ratio=None, max_iter=100,\n",
       "                   multi_class='warn', n_jobs=-1, penalty='l2', random_state=42,\n",
       "                   solver='liblinear', tol=0.0001, verbose=0, warm_start=False)"
      ]
     },
     "execution_count": 51,
     "metadata": {},
     "output_type": "execute_result"
    }
   ],
   "source": [
    "lr_grid_search.best_estimator_"
   ]
  },
  {
   "cell_type": "code",
   "execution_count": 52,
   "metadata": {},
   "outputs": [
    {
     "data": {
      "text/plain": [
       "{'C': 1, 'n_jobs': -1}"
      ]
     },
     "execution_count": 52,
     "metadata": {},
     "output_type": "execute_result"
    }
   ],
   "source": [
    "lr_grid_search.best_params_"
   ]
  },
  {
   "cell_type": "code",
   "execution_count": 53,
   "metadata": {},
   "outputs": [
    {
     "data": {
      "text/plain": [
       "0.9656989681054011"
      ]
     },
     "execution_count": 53,
     "metadata": {},
     "output_type": "execute_result"
    }
   ],
   "source": [
    "lr_grid_search.best_score_"
   ]
  },
  {
   "cell_type": "markdown",
   "metadata": {},
   "source": [
    "## Testing Just New Features + Statistically Significant Features "
   ]
  },
  {
   "cell_type": "code",
   "execution_count": 54,
   "metadata": {},
   "outputs": [],
   "source": [
    "lr_grid_search_2 = GridSearchCV(lr2, param_grid, cv=cv_len, scoring=['accuracy', 'f1'], refit='f1')"
   ]
  },
  {
   "cell_type": "code",
   "execution_count": 55,
   "metadata": {
    "scrolled": true
   },
   "outputs": [
    {
     "data": {
      "text/plain": [
       "GridSearchCV(cv=5, error_score='raise-deprecating',\n",
       "             estimator=LogisticRegression(C=1.0, class_weight=None, dual=False,\n",
       "                                          fit_intercept=True,\n",
       "                                          intercept_scaling=1, l1_ratio=None,\n",
       "                                          max_iter=100, multi_class='warn',\n",
       "                                          n_jobs=None, penalty='l2',\n",
       "                                          random_state=42, solver='liblinear',\n",
       "                                          tol=0.0001, verbose=0,\n",
       "                                          warm_start=False),\n",
       "             iid='warn', n_jobs=None,\n",
       "             param_grid=[{'C': [0.1, 0.5, 1, 2.5, 5], 'n_jobs': [-1]}],\n",
       "             pre_dispatch='2*n_jobs', refit='f1', return_train_score=False,\n",
       "             scoring=['accuracy', 'f1'], verbose=0)"
      ]
     },
     "execution_count": 55,
     "metadata": {},
     "output_type": "execute_result"
    }
   ],
   "source": [
    "lr_grid_search_2.fit(train_2_X, train_2_y)"
   ]
  },
  {
   "cell_type": "code",
   "execution_count": 56,
   "metadata": {},
   "outputs": [
    {
     "data": {
      "text/plain": [
       "LogisticRegression(C=0.5, class_weight=None, dual=False, fit_intercept=True,\n",
       "                   intercept_scaling=1, l1_ratio=None, max_iter=100,\n",
       "                   multi_class='warn', n_jobs=-1, penalty='l2', random_state=42,\n",
       "                   solver='liblinear', tol=0.0001, verbose=0, warm_start=False)"
      ]
     },
     "execution_count": 56,
     "metadata": {},
     "output_type": "execute_result"
    }
   ],
   "source": [
    "lr_grid_search_2.best_estimator_"
   ]
  },
  {
   "cell_type": "code",
   "execution_count": 57,
   "metadata": {},
   "outputs": [
    {
     "data": {
      "text/plain": [
       "{'C': 0.5, 'n_jobs': -1}"
      ]
     },
     "execution_count": 57,
     "metadata": {},
     "output_type": "execute_result"
    }
   ],
   "source": [
    "lr_grid_search_2.best_params_"
   ]
  },
  {
   "cell_type": "code",
   "execution_count": 58,
   "metadata": {},
   "outputs": [
    {
     "data": {
      "text/plain": [
       "0.9726917044739304"
      ]
     },
     "execution_count": 58,
     "metadata": {},
     "output_type": "execute_result"
    }
   ],
   "source": [
    "lr_grid_search_2.best_score_"
   ]
  },
  {
   "cell_type": "markdown",
   "metadata": {},
   "source": [
    "# Statistical Signficance Test"
   ]
  },
  {
   "cell_type": "code",
   "execution_count": 86,
   "metadata": {},
   "outputs": [
    {
     "name": "stdout",
     "output_type": "stream",
     "text": [
      "mean: 0.965\n",
      "std: 0.12426450284239127\n",
      "\n",
      "mean: 0.9694444444444446\n",
      "std: 0.11279966946803863\n",
      "\n",
      "\n",
      "-0.45792554069856006\n",
      "0.6471738290748057\n",
      "fail to reject, not stat sig\n"
     ]
    }
   ],
   "source": [
    "cv_len = 300\n",
    "\n",
    "def scores_info(scores):\n",
    "#     print(f'scores: {scores}')\n",
    "    print(f'mean: {scores.mean()}')\n",
    "    print(f'std: {scores.std()}')\n",
    "    print('')\n",
    "\n",
    "model1 = lr_grid_search.best_estimator_\n",
    "model2 = lr_grid_search_2.best_estimator_\n",
    "\n",
    "scores1 = cross_val_score(model1, train_1_X, train_1_y, cv=cv_len)\n",
    "scores2 = cross_val_score(model2, train_2_X, train_2_y, cv=cv_len)\n",
    "\n",
    "scores_info(scores1)\n",
    "scores_info(scores2)\n",
    "\n",
    "ALPHA = 0.05\n",
    "\n",
    "statistic, p = stats.ttest_ind(scores1, scores2, equal_var=False) \n",
    "\n",
    "print('')\n",
    "print(statistic)\n",
    "print(p)\n",
    "\n",
    "if p < ALPHA:\n",
    "    print('statistically significant')\n",
    "else:\n",
    "    print('fail to reject, not stat sig')"
   ]
  },
  {
   "cell_type": "markdown",
   "metadata": {},
   "source": [
    "# Cross Val Predict"
   ]
  },
  {
   "cell_type": "code",
   "execution_count": 87,
   "metadata": {},
   "outputs": [],
   "source": [
    "def score_comparison_info(y_preds, y_trues):\n",
    "    conf_matrix = confusion_matrix(y_preds, y_trues)\n",
    "    f1 = f1_score(y_preds, y_trues)\n",
    "    precision = precision_score(y_preds, y_trues)\n",
    "    recall = recall_score(y_preds, y_trues)\n",
    "    area_under_curve = roc_auc_score(y_preds, y_trues)\n",
    "    \n",
    "    return conf_matrix, precision, recall, f1, area_under_curve"
   ]
  },
  {
   "cell_type": "markdown",
   "metadata": {},
   "source": [
    "### Original Statistically Significant Features"
   ]
  },
  {
   "cell_type": "code",
   "execution_count": 88,
   "metadata": {
    "scrolled": true
   },
   "outputs": [
    {
     "name": "stdout",
     "output_type": "stream",
     "text": [
      "[[393  18]\n",
      " [ 10 379]],\n",
      " precision: 0.9546599496221663,\n",
      " recall: 0.974293059125964,\n",
      " f1: 0.9643765903307888,\n",
      " Area under Curve: 0.9652487193440039\n"
     ]
    }
   ],
   "source": [
    "preds = cross_val_predict(model1, train_1_X, train_1_y, cv=cv_len, method='decision_function')\n",
    "scores_array = []\n",
    "\n",
    "for i in preds:\n",
    "    if i > 0:\n",
    "        scores_array.append(1)\n",
    "    else:\n",
    "        scores_array.append(0)  \n",
    "\n",
    "conf_matrix, precision, recall, f1, area_under_curve = score_comparison_info(scores_array, train_1_y) \n",
    "print(f'{conf_matrix},\\n precision: {precision},\\n recall: {recall},\\n f1: {f1},\\n Area under Curve: {area_under_curve}')"
   ]
  },
  {
   "cell_type": "markdown",
   "metadata": {},
   "source": [
    "### Original Statistically Significant Features + New Features"
   ]
  },
  {
   "cell_type": "code",
   "execution_count": 89,
   "metadata": {
    "scrolled": true
   },
   "outputs": [
    {
     "name": "stdout",
     "output_type": "stream",
     "text": [
      "[[386  16]\n",
      " [  7 391]],\n",
      " precision: 0.9606879606879607,\n",
      " recall: 0.9824120603015075,\n",
      " f1: 0.9714285714285714,\n",
      " Area under Curve: 0.9713055326383159\n"
     ]
    }
   ],
   "source": [
    "preds = cross_val_predict(model2, train_2_X, train_2_y, cv=cv_len, method='decision_function')\n",
    "scores_array = []\n",
    "\n",
    "for i in preds:\n",
    "    if i > 0:\n",
    "        scores_array.append(1)\n",
    "    else:\n",
    "        scores_array.append(0)  \n",
    "\n",
    "conf_matrix, precision, recall, f1, area_under_curve = score_comparison_info(scores_array, train_2_y) \n",
    "print(f'{conf_matrix},\\n precision: {precision},\\n recall: {recall},\\n f1: {f1},\\n Area under Curve: {area_under_curve}')"
   ]
  },
  {
   "cell_type": "markdown",
   "metadata": {},
   "source": [
    "# Running on the Test Dataset"
   ]
  },
  {
   "cell_type": "markdown",
   "metadata": {},
   "source": [
    "<p>Since the best model is the Logistic Regression model found through GridSearchCV that takes in the originally statistically signficant features along with the new features, I will run the test data through this model and see how well it performs on new data."
   ]
  },
  {
   "cell_type": "code",
   "execution_count": 99,
   "metadata": {},
   "outputs": [],
   "source": [
    "test_2_X = test_2.loc[:, 'Daily Time Spent on Site': 'Income/Length']\n",
    "test_2_y = test_2['Clicked on Ad']"
   ]
  },
  {
   "cell_type": "code",
   "execution_count": 100,
   "metadata": {},
   "outputs": [],
   "source": [
    "test_y_preds = model2.predict(test_2_X)"
   ]
  },
  {
   "cell_type": "code",
   "execution_count": 101,
   "metadata": {},
   "outputs": [],
   "source": [
    "conf_matrix, precision, recall, f1, area_under_curve = score_comparison_info(test_y_preds, test_2_y)"
   ]
  },
  {
   "cell_type": "code",
   "execution_count": 102,
   "metadata": {
    "scrolled": true
   },
   "outputs": [
    {
     "name": "stdout",
     "output_type": "stream",
     "text": [
      "[[104   6]\n",
      " [  1  89]],\n",
      " precision: 0.9368421052631579,\n",
      " recall: 0.9888888888888889,\n",
      " f1: 0.9621621621621621,\n",
      " Area under Curve: 0.9671717171717171\n"
     ]
    }
   ],
   "source": [
    "print(f'{conf_matrix},\\n precision: {precision},\\n recall: {recall},\\n f1: {f1},\\n Area under Curve: {area_under_curve}')"
   ]
  },
  {
   "cell_type": "code",
   "execution_count": 103,
   "metadata": {},
   "outputs": [
    {
     "name": "stdout",
     "output_type": "stream",
     "text": [
      "0.965\n"
     ]
    }
   ],
   "source": [
    "correct = 0\n",
    "\n",
    "for pred, true in zip(test_y_preds, test_2_y):\n",
    "    if pred == true:\n",
    "        correct += 1\n",
    "    \n",
    "print(correct / len(test_2_y)) # Accuracy score."
   ]
  }
 ],
 "metadata": {
  "kernelspec": {
   "display_name": "Python 3.7.3 64-bit",
   "language": "python",
   "name": "python37364bitfa9893814aec4ef7b4684d6771155a64"
  },
  "language_info": {
   "codemirror_mode": {
    "name": "ipython",
    "version": 3
   },
   "file_extension": ".py",
   "mimetype": "text/x-python",
   "name": "python",
   "nbconvert_exporter": "python",
   "pygments_lexer": "ipython3",
   "version": "3.7.3"
  }
 },
 "nbformat": 4,
 "nbformat_minor": 2
}
